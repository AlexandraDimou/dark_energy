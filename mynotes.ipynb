{
 "cells": [
  {
   "cell_type": "markdown",
   "metadata": {},
   "source": [
    "# Theoretical Models of Dark Energy\n",
    "\n",
    "Einstein believed the Universe is static, but his Einstein equations implied a dynamic Universe.  In 1917 he introduced the cosmological constant Λ, the antigravity vacuum  energy.   He  had  adjusted  the  scale  of  Λ  to  gravity  so  that  the  Universe  stays static.\n",
    "In 1928 Edwin Hubble demonstrated that the Universe is expanding.\n",
    "Riess (1998) and Perlmutter (1999) found that distant supernovae at z∼0.5 are ∆m∼0.25 mag, about 25%, fainter than ones expected for a decelerating Universe without the cosmological constant.  They concluded from the observation of supernovae that the Universe is currently accelerating in its expansion.We call the source of this acceleration\n",
    "dark  energy.  Not only Type Ia supernova (SN Ia)  observations  but  also  Cosmic  Microwave  Background  (CMB)  and  Baryon  Acoustic Oscillations (BAO) substantiate that dark energy captures about 73% of the energy density of the current Universe. \n",
    "\n",
    "##  Observational evidences on dark energy\n",
    "\n",
    "- ### Type Ia supernova (SN Ia)\n",
    "\n",
    "SN Ia  observations  are one  significant evidence  for the  cosmic acceleration.  When a white dwarf reaches 1.4 $M_{\\odot}$, gravity becomes bigger than the Fermi degeneracy pressure and drives the star into explosion.  Since SN Ia is made in the same process,  we  assume  that  SN  Ia  always  have  the  same  luminosity  and  it  can  be  used  as a standard  candle. Measuring the apparent magnitude,  we can estimate the luminosity distance.  A supernova is as bright as a whole galaxy, thus surveying SN Ia is very powerful and a direct way to study the distant Universe. But since the detection was first published some scientists had doubt that the distant supernovae could appear fainter just due to extinction.  Absorption by intervening dust could also lead to characteristic reddening. Nowadays thanks to Hubble Space Telescope (HST) we have high quality light curves up to $z \\approx 1.8$ and big amount of other distant SN data from ground based observations.  We are thus more convinced that this was not due to extinction by dust but due to real cosmic acceleration.\n",
    "\n",
    "https://arxiv.org/pdf/1212.4726.pdf\n",
    "\n",
    "\n"
   ]
  },
  {
   "cell_type": "markdown",
   "metadata": {},
   "source": [
    "#### Supernova cosmology\n",
    "\n",
    "The Hubble diagram is a graphic representation of the luminosity distance (magnitude) to some class of objects (e.g. type Ia supernovae) as a function of their redshift.\n",
    "\n",
    "In cosmology several different distance measures are in use.  They are all related by simple redshift factors: \n",
    "\n",
    "-Luminosity distance $D_L$ , defined by: $$ D_L=(\\mathcal{L}/4\\pi\\mathcal{F})^{1/2} $$\n",
    "\n",
    "where $\\mathcal{L}$ is the intrinsic luminosity of the source and $\\mathcal{F}$ is the observed flux.\n",
    "\n",
    "Like all cosmological distances, $D_L$ is proportional to  \n",
    "\n",
    "$c/H_0=3000{h_0}^{-1} Mpc$\n",
    "\n",
    "For Friedmann-Lemaitre models the “Hubble-constant-free” luminosity distance $D_L$, defined by: $$ D_L(z)= {c \\over {H_0}}D_L(z;\\Omega_M;\\Omega_{\\Lambda})$$\n",
    "\n",
    "is a known dimensionless function of the redshift z, which depends parametrically on $$ \\Omega_M=\\rho_M / \\rho_{crit}$$ \n",
    "\n",
    "and $$ \\Omega_{\\Lambda}=\\rho_{\\Lambda} / \\rho_{crit} $$ \n",
    "\n",
    "where $\\rho_M$ is the total non-relativistic matter density (the relativistic matter of the present universe is \n",
    "\n",
    "negligible). The quantity $\\Omega_K:=1-\\Omega_{M}-\\Omega_{\\Lambda}$ is a measure of the curvature. From the Friedmann \n",
    "\n",
    "equation: $$ ({{\\dot{\\alpha}} \\over \\alpha}) + {k \\over {\\alpha^2}} ={{8 \\pi G} \\over 3}(\\rho + \\rho_{\\Lambda}) $$ \n",
    "\n",
    "k being the curvature constant, one finds $\\Omega_K=-k/{({\\alpha_0}H_0)}^2$. In particular, for $\\Omega_K=0$ $(\\Omega_M+\\Omega_{\\Lambda}=1)$ space is flat.\n",
    "\n",
    "Astronomers use as logarithmic measures of $\\mathcal{L}$ and $\\mathcal{F}$ the absolute and apparent magnitudes (beside \n",
    "\n",
    "the (bolometric) magnitudes m, M, astronomers use also magnitudes $m_B$,$ m_V$,..refering to certain wave length bands B (blue), V (visual), and so on),denoted by M and m, respectively. The conventions are chosen such that the distance modulus m−M is related to $D_L$ as follows $$ m-M=5log({{D_L}\\over {1Mpc}})+25 $$\n",
    "\n",
    "Inserting the representation  $D_L(z)= {c \\over {H_0}}D_L(z;\\Omega_M;\\Omega_{\\Lambda})$ , we obtain the following \n",
    "\n",
    "relation between the apparent magnitude m and the redshift z: $$m=\\mathcal{M}+5log(z;\\Omega_M;\\Omega_{\\Lambda})$$\n",
    "\n",
    "where, for our purpose,$\\mathcal{M}=M-5log{H_0}-25$ is an uninteresting fit parameter. The comparison of this \n",
    "\n",
    "theoretical expectation with data will lead to inte resting restrictions for the cosmological parameters $Ω_M$ and $Ω_\n",
    "{\\Lambda}$ \n",
    "\n",
    "https://arxiv.org/pdf/astro-ph/9908342.pdf\n",
    "\n",
    "For the last few decades the property that type Ia supernovae can be used as standard candles has played a crucial part in constraining the cosmological parameters of the standard cosmological model. Despite having played this crucial role in modern cosmology the progenitor system for type Ia supernovae has so far not been fully understood. In order to understand all systematic effects related to observing type Ia supernovae we need the ability to reliably identify which\n",
    "progenitor system resulted in the type Ia supernovae that we are observing. One way to constrain these progenitor models is through the predicted delay times, the time between star formation and explosion of the type Ia supernovae. \n",
    "\n",
    "By measuring the type Ia supernova rates and delay times and how these two methods can be reconciled in a new model,the findings are that the new model is in good agreement with current observations and preferred over the current consensus model.Type Ia supernovae can be used to probe the local cosmological bulk flow. Some studies find that this bulk flow is in excess of what is predicted by the standard cosmological model. Survey geometry and in particular sampling effects can shift the linear theory prediction towards larger bulk flows. This defuses the apparent tension between the measured bulk flow and theory.A bulk flow is induced by density fluctuations, and thus the bulk motion we observe should\n",
    "match what we expect from the density distribution.The density distribution is in turn determined by cosmological parameters such as the strength of clustering, through $\\sigma_8$ , and the matter density,\n",
    "$\\Omega_M$ . The magnitude of bulk flows can be predicted from theory given a model and set of cosmological parameters (e.g. $\\sigma_8$ and $\\Omega_M$ ), some initial conditions (such as a fluctuation amplitude at the end of inflation), and a law of gravity (such as general relativity). If the observed bulk flow was to deviate from that predicted by theory, that would indicate that one or more of the given inputs is incorrect.\n",
    "\n",
    "The term bulk flow in the context of cosmology refers to the average motion of matter in a particular region of space relative to the dipole subtracted cosmic microwave background (CMB) rest\n",
    "frame. One reason why bulk flows are interesting to cosmologists is that by measuring them we\n",
    "can learn more about the composition of the universe, the laws of gravity, and whether our current\n",
    "cosmological model is a good representation of the actual underlying dynamics.\n",
    "\n",
    "Higher redshift standard candles will not contribute to this effort more than lower redshift counterparts as the modified dark energy models under current observational constraints can not deviate significantly from standard cosmology at these higher redshifts. This conversely implies that any deviation from standard cosmology at higher redshifts will pose a problem not just to standard cosmology, but also to the tested subset of modified dark energy models.None of the tested cosmologies can deviate significantly from fiducial\n",
    "ΛCDM cosmology at high redshift, given current cosmological constraints. As a consequence,\n",
    "high redshift ($z \\geq 2 $) standard candles will not add significant additional constraints over that of\n",
    "low redshift equivalent standard candles, when discerning between ΛCDM cosmology and CPL,\n",
    "JBP, n3CPL, or n7CPL cosmology.The choice of dark energy model seems to have negligible impact on high redshift behaviour, regardless of whether we consider the models better suited for fitting an underlying freezing or thawing cosmology"
   ]
  },
  {
   "cell_type": "markdown",
   "metadata": {},
   "source": [
    " The large bolometric\n",
    "luminosities of type Ia supernovae of ~ $ 10^{43} $ erg$s^{-1}$\n",
    "at their maximum means that they constitute\n",
    "a large portion of the supernovae observed since their extreme luminosities allow them to be observed from large distances. At their peak type Ia supernovae shine as bright as roughly 10 billion\n",
    "suns, enabling them to shine as bright as the total sum of stars that make up their host galaxy. Their\n",
    "apparent homogeneity allows them to be used as standardisable candles"
   ]
  },
  {
   "cell_type": "markdown",
   "metadata": {},
   "source": [
    "https://dark.nbi.ku.dk/research/publications/theses/PerThesis.pdf"
   ]
  },
  {
   "cell_type": "markdown",
   "metadata": {},
   "source": [
    "Type Ia supernovae are classified by their lack of hydrogen and helium features in their optical spectra, and are incredibly uniform in their spectra and light curves ( https://arxiv.org/pdf/1312.0628.pdf)"
   ]
  },
  {
   "cell_type": "markdown",
   "metadata": {},
   "source": [
    "Type Ia supernova reach a maximum in optical within ∼15-20 days and then decline by roughly three magnitudes in one\n",
    "month and then steadily one magnitude per month over the following months\n",
    "\n",
    "\n",
    "\n",
    "One approach used in constraining the nature of SNe Ia progenitors is studying the correlation between SN Ia rates\n",
    "(SNRs) and the properties of the galaxies in which they form.The environmental properties studied so far include redshift,host galaxy age,environment galaxy number density,ejecta velocity,mass and star formation rate of the host.\n",
    "\n",
    "One popular model for the correlation between SN Ia rates and the mass and star formation rate of the host galaxies\n",
    "in which they formed is the “A + B” model.which states\n",
    "that the supernova rate is proportional to a linear combination of\n",
    "galaxy mass and star formation rate: SNR = A×M + B×SFR,\n",
    "where SNR is the SN Ia rate, M is galaxy mass in stars, and\n",
    "SFR is star formation rate. This relation leads trivially to a more\n",
    "physical relation SNR/M = A + B×(SFR/M), where SNR/M\n",
    "is the rate per unit mass, and SFR/M is specific star formation\n",
    "rate (which is a function of star formation history, independent\n",
    "of mass)\n",
    "http://iopscience.iop.org/article/10.1088/0004-6256/145/3/83/pdf\n",
    "\n",
    "In https://arxiv.org/pdf/astro-ph/0507456.pdf the A+B model is motivated by an observed bimodal distribution of type\n",
    "Ia SNe luminosities; they argue that the brightest SNe are more prevalent in actively star forming galaxies while\n",
    "underluminous events occur primarily in galaxies with low star formation rates.\n"
   ]
  },
  {
   "cell_type": "markdown",
   "metadata": {},
   "source": [
    " #### Type Ia Supernova Progenitor Models\n",
    " \n",
    " #### Single-degenerate (Chandrasekhar-mass white dwarf) scenario\n",
    " \n",
    " In this scenario, the companion star is a main sequence or giant-like star (possibly a helium-burning star),that is overfilling  its  Roche-lobe,  transferring  matter  through  the  inner Lagrange point in a stable manner to the companion carbon–oxygen (CO) WD. If the mass transfer proceeds within a certain range of rates,the donor material is accreted in a stable fashion leading to efficient  hydrogen-burning  (mass  accumulation)  on  the WD, thereby increasing its (central) density.  When the density in the center of a CO WD becomes high enough the carbon in the WD starts to burn which eventually leads to a thermonuclear explosion, obliterating  the  WD  and  possibly  imparting  a  significant  kick on  the  companion  star.  This  critical  density when carbon-burning can start is usually attained when the WD approaches a critical mass – the Chandrasekhar limit.It is also possible that the WD may reach the Chandrasekhar mass, by accreting from a helium-burning star donor  rather  than  a  hydrogen-rich  donor.Such  formation  channels  are  expected  to  be  rare,  and these  progenitors  have  shorter  evolutionary  timescales than  the  ‘canonical’  SD  scenario  due  to  the  larger zero-age main sequence (ZAMS) mass of the secondary"
   ]
  },
  {
   "cell_type": "markdown",
   "metadata": {},
   "source": [
    "https://arxiv.org/pdf/1302.6420.pdf"
   ]
  },
  {
   "cell_type": "markdown",
   "metadata": {},
   "source": [
    "#### Double-detonation (sub-Chandrasekhar-mass white dwarf) scenario"
   ]
  },
  {
   "cell_type": "markdown",
   "metadata": {},
   "source": [
    "In the sub-Chandrasekhar-mass   scenario    a   sub-Chandrasekhar-mass  CO  WD  accretes  stably  from  a\n",
    "companion  and  never  reaches  the  Chandrasekhar  limit before exploding.Depending on the assumed mass\n",
    "transfer/accretion  rates  and  the  mass  of  the  CO  WD,the  WD  is  thought  to  be  able  to  accumulate  (rather\n",
    "than  burn)  a  layer  of  helium  which  may  detonate  under the right physical conditions.This shell-detonation  –  if  realized  –  likely  triggers  a  second  detonation in the sub-Chandrasekhar-mass WD, leading to a SN Ia (‘double-detonation’ scenario)."
   ]
  },
  {
   "cell_type": "markdown",
   "metadata": {},
   "source": [
    "Another scenario which might readily lead to SNe Ia is the merger of two CO WDs where the total mass exceeds the Chandrasekhar limit (‘double degenerate’ (DD) scenario)"
   ]
  },
  {
   "cell_type": "markdown",
   "metadata": {},
   "source": [
    "#### Other possible scenarios"
   ]
  },
  {
   "cell_type": "markdown",
   "metadata": {},
   "source": [
    "Other  possible  formation  channels  leading  to  SNe  Ia have  been  postulated  in  the  literature.    For  example:\n",
    "a  potential  scenario  involves  the  merger  of  a  CO  WD and the core of an AGB star during a common envelope\n",
    "event.  Such events are expected to readily occur, however it is unclear whether such ‘core-degenerate’ mergers  would  lead  to  an  immediate  (or  delayed) explosion  that  exhibits  observational  signatures  which match those of SNe Ia."
   ]
  },
  {
   "cell_type": "markdown",
   "metadata": {},
   "source": [
    "https://arxiv.org/pdf/1302.6420.pdf"
   ]
  },
  {
   "cell_type": "markdown",
   "metadata": {},
   "source": [
    "####  Progenitors and Delay Times"
   ]
  },
  {
   "cell_type": "markdown",
   "metadata": {},
   "source": [
    "The delay time distribution (DTD) is the distribution of times in which SNe Ia explode following a (hypothetical) burst of star formation.  Knowing the DTD gives the age of the progenitor, which places strong constraints on the different proposed progenitor scenarios.  If the SN Ia rate  is  known  in  addition,  then  it  becomes  possible  to rule out theoretical formation channels.Calculation   of   observationally-recovered   DTDs   involves many assumptions, the most important being the assumed star formation history of the supernova’s host galaxy or local stellar population ( https://arxiv.org/pdf/1302.6420.pdf )\n",
    "\n",
    "While the single degenerate progenitor channel may contribute significantly to the observed type Ia supernovae at short delay times, it is highly unlikely to represent the entirety of observed Ia supernovae\n",
    "\n",
    "With respects to the observed delay times the double degenerate progenitor channel seems to come out slightly ahead. "
   ]
  },
  {
   "cell_type": "markdown",
   "metadata": {},
   "source": [
    "####  How to use type Ia supernovae as standard candles"
   ]
  },
  {
   "cell_type": "markdown",
   "metadata": {},
   "source": [
    "The absolute magnitudes at maximum light for type Ia supernovae are shown to be tightly correlated with the decline rate of the light curve.\n",
    "\n",
    "$$M(B)_{max}=-21.726 + 2.698\\Delta m_{15}(B)$$"
   ]
  },
  {
   "cell_type": "markdown",
   "metadata": {},
   "source": [
    "\n",
    "$\\Delta m_{15}$ : is the difference between apparent magnitude at peak brightness and fifteen days after peak, typically in the B-band."
   ]
  },
  {
   "cell_type": "markdown",
   "metadata": {},
   "source": [
    "$ M(B)_{max} $ : is the absolute B-band magnitude"
   ]
  },
  {
   "cell_type": "markdown",
   "metadata": {},
   "source": [
    "( http://articles.adsabs.harvard.edu/cgi-bin/nph-iarticle_query?1993ApJ...413L.105P&amp;data_type=PDF_HIGH&amp;whole_paper=YES&amp;type=PRINTER&amp;filetype=.pdf )"
   ]
  },
  {
   "cell_type": "markdown",
   "metadata": {},
   "source": [
    "The $\\Delta m_{15}$ parameter is relatively straight forward to measure with appropriate light curves and acts as a scale factor through which light curves of SN Ia are standardized and used as distance indicators."
   ]
  },
  {
   "cell_type": "markdown",
   "metadata": {},
   "source": [
    "<img src='img/this.png' alt='this' style='width=1200px;height=800px;'>"
   ]
  },
  {
   "cell_type": "markdown",
   "metadata": {},
   "source": [
    "Figure:  The relation between the decline in peak apparent magnitude and 15 days later and absolute magnitude in the B, V, and I bands.  This relation facilitates the standardising of type Ia supernovae into a standard candle with only little intrinsic scatter on the derived absolute magnitudes (https://dark.nbi.ku.dk/research/publications/theses/PerThesis.pdf)"
   ]
  },
  {
   "cell_type": "markdown",
   "metadata": {},
   "source": [
    "Despite the initial success of the method in  standardising  the  type  Ia standard candle it failed in taking into account the variability in the observed light curves caused by variation in the large spectral features of type Ia supernovae.  Various approaches attempt to resolve this issue by fitting a stretch parameter using color information \n",
    "or both.The model is summarised in the equation:\n",
    "\n",
    "$$m_B=M_B-aX_1 + \\beta C+ \\mu$$\n",
    "\n"
   ]
  },
  {
   "cell_type": "markdown",
   "metadata": {},
   "source": [
    "$m_B$ and $M_B$ are the apparent and absolute magnitudes at maximum in the B-band."
   ]
  },
  {
   "cell_type": "markdown",
   "metadata": {},
   "source": [
    "$X_1$ is the stretch term and C the colour term"
   ]
  },
  {
   "cell_type": "markdown",
   "metadata": {},
   "source": [
    "$ \\alpha $ and $ \\beta $ being globally fit variables that are assumed to be constant for all type Ia supernovae"
   ]
  },
  {
   "cell_type": "markdown",
   "metadata": {},
   "source": [
    "$\\mu$ is the distance modulus of the supernovae,\n",
    "which is dependent on the redshift of the host galaxy and assumed cosmology"
   ]
  },
  {
   "cell_type": "markdown",
   "metadata": {},
   "source": [
    "https://dark.nbi.ku.dk/research/publications/theses/PerThesis.pdf"
   ]
  },
  {
   "cell_type": "markdown",
   "metadata": {},
   "source": [
    "The current limitation of SNe Ia as absolute distance indicators is the calibration of the absolute luminosity of SN Ia. We do not have theoretical predictions of their peak luminosity because there is still continuing uncertainty about their exact nature. Thus they have to be calibrated using other distance indicators, and this is one of the primary purposes for the modern distance ladder. SNe Ia are calibrated by Cepheid stars, using the Leavitt Law, which in turn have to be calibrated to an absolute scale.\n",
    "\n",
    "https://link.springer.com/content/pdf/10.1007%2Fs11214-018-0466-9.pdf"
   ]
  },
  {
   "cell_type": "markdown",
   "metadata": {},
   "source": [
    "#### Describing supernova rates\n",
    "\n",
    "One of the approaches is to measure volumetric rates, while the other looks at averaged rates measured in individual galaxies, typically held up against galaxy properties such as stellar mass and star formation rate, assuming a delay time distribution going as $\\tau^{-1}$ with a transition to being constant at short delay times. From this delay time distribution a model to predict type Ia supernova rate from stellar mass and star formation rate of a galaxy is derived. This model is in excellent agreement with the current observational constraints. The model is then compared to the A+B model through various measures for goodness of fit. For all measures the A+B model performs worse. It is especially in the high specific star formation rate regime that the performance of the A+B model is poor, and the fact that this disagreement exists with a model based on a ∼$\\tau^{-1}$ delay time distribution. https://dark.nbi.ku.dk/research/publications/theses/PerThesis.pdf\n",
    "\n",
    "The mechanism responsible for Ia explosions has two channels, one prompt and one delayed, and that both contribute significantly to the observed supernova rate.\n",
    "\n",
    "\n",
    "Despite their prominence,the precise physics of the Ia SNe progenitor is unknown.This is often referred to as the progenitor problem. Different models for the progenitor predict different delay time distributions (DTD). The DTD parametrises the distribution of times between the formation of the progenitor and the subsequent SN explosion. In the limit where all star formation happens instantaneously, in a brief starburst, the DTD parametrisation will reflect the rate of SN explosions that follow the starburst. In practise, the star formation history is more complex, and the observed SN rate is a convolution of the DTD and the star formation rate. This complicates modelling of SN Ia rates which plays an important role in, e.g., cosmological astrophysics and chemical evolution modelling.Different avenues can be taken when modelling SN rates. One is to measure volumetric SN rates as a function of redshift and fit an assumed DTD. This approach seems to suggest a DTD of the form DTD ~$\\tau^{-1}$ perhaps with a transition to becoming constant at early times.https://arxiv.org/pdf/1401.7978.pdf This may be explained by a progenitor model with two distinct progenitors. These two progenitors are often referred to as a prompt component, with short delay times, and a delayed component, with longer delays between star formation and SN explosion. Another approach is to observe SN rates for individual galaxies as a function of star formation rate of the host galaxy, averaged over all observed galaxies. This approach does not formally define or assume a DTD, and instead assumes that the SN rate depends on physical parameters such as stellar mass and star formation rate of the host galaxy. The consensus model for this approach is the A+B model. https://arxiv.org/pdf/1801.00793.pdf\n"
   ]
  },
  {
   "cell_type": "markdown",
   "metadata": {},
   "source": [
    "- ### Cosmic Microwave Background (CMB)\n",
    "\n",
    "Not only SN Ia but also CMB observations strongly indicate the presence of dark energy.The CMB is a snap shot of the Universe before the cosmic structure developed and has temperature anisotropies which are influenced by dark energy.  This snap shot tells us the cosmic history from the photon decoupling epoch to the present.The angular power spectrum of CMB temperature anisotropies measured by Wilkinson Microwave  Anisotropy  Probe  (WMAP) implies  that  it  is  dominated  by acoustic peaks arising from gravity-driven sound waves in the photon-baryon fluid.  And then  the  positions  of  these  acoustic  peaks  are  shifted  by  cosmic  expansion.   Thus  the positions and amplitudes of acoustic peaks contain important cosmic information.\n",
    "Baryons were strongly coupled to photons before the decoupling epoch.  After recombination ($z_r \\approx 1100$) baryons  got  free  from  Compton  drag  of  photons  and  stayed  at  a fixed radius, i.e., sound horizon.  It determines the first acoustic peak in CMB anisotropy that we can observe directly. Since the size of the sound horizon is predicted from theory, $l_s \\sim H^{-1}(z_r)$, this sound horizon serves as a standard ruler by measuring the angular scale of the first acoustic peak.  It is analogous to how SN Ia can be used as a standard candle but is completely independent from the SN Ia technique.\n",
    "\n",
    "Galaxy clusters also leave an imprint on the CMB, the so-called Sunyaev-Zel’dovich (SZ) effect The SZ effect stands for the distortion of the CMB spectrum through inverse Compton scatterings due to the collisions of the CMB photons and the high energy electrons  in  galaxy  clusters.   Measuring  this  distortion  of  the  CMB,  we  can  estimate masses of the clusters.  Since the SZ effect is a scattering effect, its magnitude is redshift-independent; very distant clusters are as easy to detect as nearby clusters. When combined with accurate redshifts and mass estimates for the clusters, e.g.  X-ray observation, the SZ effect plays a role of a standard ruler and can be used as a distance indicator.  This is the same method as comparing the absolute magnitude with the apparent one.  The SZ effect may also provide interesting constraints on the dark energy. The combination of CMB and SN Ia observations indicates that our Universe is spatially flat and the matter component is about one quarter of the critical density, $\\Omega_m \\approx 0.3 $ This implies the need for dark energy as a missing component $\\Omega_{\\Lambda}=1-\\Omega_m \\approx 0.7$ which\n",
    "is indeed consistent with the value of $\\Omega_{\\Lambda} \\approx 0.7$ suggested by SN Ia surveys.\n",
    "\n",
    "Dark energy also influences on large angle anisotropies of CMB, the so-called integrated-Sachs-Wolfe (ISW) effect\n",
    "Variation of the gravitational potential during the epoch of cosmic acceleration leads to differential gravitational redshifts of photons and large scale perturbations.  Analyses of spatial correlation of the large scale structure (LSS) of galaxies indicate that the Universe is not Einstein-de Sitter Universe ($\\Omega_m=1$)\n",
    "\n",
    "\n",
    "https://arxiv.org/pdf/1212.4726.pdf"
   ]
  },
  {
   "cell_type": "markdown",
   "metadata": {},
   "source": [
    "-### BAO\n",
    "\n",
    "Studying BAO is also a significant investigation for dark energy. As mentioned above, after decoupling baryons stay at the distance of the sound horizon whereas dark matter stays at the center of overdensity.  They attract matter and eventually form galaxies.  Therefore it is expected that a number of galaxies are separated by the sound horizon.  We call it BAO signal.  It means that by observing the large scale structure (LSS) of galaxies, we\n",
    "can measure the sound horizon scales and compare them with theoretical predictions.\n",
    "To analyze the BAO signal,  we do not need to resolve galaxy magnitudes or galaxy images.  The only thing to be determined is their 3-dimensional position.  Thus in that sense, BAO observations are safer from astronomical uncertainties than other dark energy probes.\n",
    "The Sloan Digital Sky Survey (SDSS) catalog provides us a picture of the distribution of galaxies up to\n",
    "z= 0.47  and search for a BAO signal.  To analyze this picture, we use a two-point correlation function of galaxies; it gives the probability that one galaxy will be found within a given distance of another.  The two-point correlation function indeed possesses a bump, BAO signal, at a scale $100h^{-1} Mpc$ for $0.16 < z < 0.47$\n",
    " Both CMB and BAO signals indicate that the sound horizon today is about 150 Mpc. https://arxiv.org/pdf/1212.4726.pdf\n",
    "\n",
    "\n",
    "The sound waves that propagated in the pre-recombination universe produced a pronounced peak in the two-point correlation function of the cosmological-density field.This “baryon-acoustic oscillation” (BAO) peak,is centered on a comoving distance equal to the sound horizon at the drag epoch, $r_d$.Observed at a redshift z, the BAO peak position in the transverse (angular) direction determines the ratio $D_M(z)/ r_d$ ,where $D_M(z)=(1 + z)D_A(z)$ is the “comoving” angular-diameter distance ($D_A$ is the “traditional” angular-diameter distance). In the radial (redshift) direction, the peak position determines $D_H(z)/ r_d$, where $D_H(z)=c/H(z)$ is the Hubble distance.Since $D_M$, $D_H$ and $r_d$ all have simple dependencies on the cosmological parameters, observation of the BAO feature constrains those parameters, especially when combined with cosmic microwave background (CMB) data. In particular, one can constrain models beyond the flat-ΛCDM model that describes CMB data, deriving constraints on cosmological curvature and the dark-energy equation of state. Furthermore, the shape of the spectrum of CMB anisotropies can be used to calculate the value of $r_d$ to percent-level precision $r_d$ ~147 Mpc and the use of this value allows one to derive $D_M(z)$ and $D_H(z)$ from BAO measurements.These absolute distances can be combined with relative distances determined with type Ia supernovae to extrapolate to z=0, yielding a “top-down” measurement of $H_0$.\n",
    "https://arxiv.org/pdf/1702.00176.pdf\n",
    "\n",
    "As a probe of dark energy, baryonic acoustic oscillation features have a significant advantage over standard candles\n",
    "such as supernovas in that we have a very clear theory describing them. Even the imperfection associated with our\n",
    "lack of understanding of exactly how galaxies populate dark matter halos does not present a significant problem,\n",
    "because the scale of halos is well separated from the scale of the BAO. The Lyα forest extends this advantage in that\n",
    "we can perform something relatively close to a computation from first-principles\n",
    "\n",
    "https://arxiv.org/pdf/astro-ph/0607122.pdf\n",
    "\n",
    "Most studies of the BAO peak have used galaxies at redshifts z<0.8  as  tracers  of  the  density.\n",
    "At  higher  redshifts,  BAO  correlations  can  be  seen  using quasars and their Lyman-α (Lyα) forests as mass tracers.\n",
    "https://arxiv.org/pdf/1702.00176.pdf\n",
    "\n",
    "BAO correlations can be studied at redshift near z ∼ 2.4 by using the flux transmission in Lyα forests as a mass tracer.\n",
    "The BAO peak has been detected in the transmission auto-correlation of SDSS Lyα forests.Complementary to the auto-\n",
    "correlation, BAO can also be studied using the cross-correlation of quasars and the flux in Lyα forests\n",
    "https://arxiv.org/pdf/1708.02225.pdf\n",
    "\n",
    "The flux-transmission field is sampled at points in a space defined by observed wavelength and position on the sky. It is therefore natural to measure the cross-correlation with quasars as a function of angular and redshift separation, ξ(∆θ, ∆z), where ∆z is the difference between the quasar redshift and the forest-pixel redshift calculated assuming Lyα absorption. In the approximation that Lyα absorption dominates in the forest, the BAO peak in these coordinates would be at ∆z = $r_d$ /$D_H (z)$ in the radial direction and at ∆θ = $r_ d$ /$D_M (z)$ in the transverse direction, where \n",
    "$D_ H (z)$ = c/H(z) and $D_ M (z)$ are the Hubble and comoving-angular distances. While this formulation has the advantage of remaining close to the directly observed quantities, it has the disadvantage that both $D_ H$ and $D_ M$ vary significantly over the redshift range of BOSS. This would lead to significant broadening of the peak unless several wavelength bins were used.https://arxiv.org/pdf/1708.02225.pdf"
   ]
  },
  {
   "cell_type": "markdown",
   "metadata": {},
   "source": [
    "- ###  Weak gravitational lensing\n",
    "The gravitational bending of light by structure distorts the images of galaxies.  Studying this gravitational lensing effect, we can map dark matter and its clustering which shows us the influence of dark energy in the growth of large-scale structure. In rare cases we observestrong lensing which is deflection of light by massive structures like clusters and causes multiple images of the same background galaxy.  More often we observe weak lensing which distorts the shapes, sizes and brightness of galaxies.  Since we know the shape better than the original size and brightness of galaxy, many studies focus mainly on the change on shapes which is called\n",
    "cosmic shear.  Weak lensing normally reads only 1% change of galaxy shape.  Therefore,  a large number of galaxies are required to detect cosmic shear signal.  The shear correlation function can be directly compared with\n",
    "the measurements.\n",
    "There  are  dark  energy  probes  other  than  ones  raised  above,  including  cosmic  age tests from globular cluster and the white dwarfs,galaxy clusters,Hubble parameter measurements and gamma ray bursts.\n",
    "https://arxiv.org/pdf/1212.4726.pdf"
   ]
  },
  {
   "cell_type": "markdown",
   "metadata": {},
   "source": [
    "### Quasars\n",
    "\n",
    "An optimal “standard candle” for cosmological studies  is  defined  by  two  fundamental  properties:  it  has  a\n",
    "standard (or standardizable) luminosity, and it is easy to  observe  in  a  wide  redshift  range.   Quasars  are  the\n",
    "best class of astrophysical sources concerning the latter property, but completely lack the former:  their observed\n",
    "emission spans several orders of magnitudes in luminosity,  but  their  spectral  energy  distribution  (SED)  show\n",
    "no, or little, significant evolution with luminosity.  As a consequence,  quasars  at  first  glance  are  far  from  being useful tools to set the cosmic distance scale as a function of redshift (i.e.  the ”Hubble Diagram”).\n",
    "However, even weak correlations between spectral features and luminosity,  with large dispersions and obser-\n",
    "vational biases, can in principle be useful for cosmological  measurements,  provided  that  the  quasar  sample  is\n",
    "large  enough.https://arxiv.org/pdf/1505.07118.pdf\n",
    "\n",
    "A non-linear relation between the UV and X–ray luminosity in quasars the $L_X-L_{UV}$ relation is parametrized\n",
    "as  a  linear  dependence  between  the  logarithm  of  the monochromatic luminosity at 2500 $\\mathring{A}$ ($L_{UV}$)\n",
    "and the $\\alpha_{OX}$ parameter, defined as the slope of a power law connecting  the  monochromatic  luminosity  at  2  keV ($L_X$) and $L_{UV}$ : $$ \\alpha_{OX}=0.384×log{(L_X / L_{UV})}$$\n",
    "\n",
    "Luminosities  are  derived  from  fluxes  through  a  luminosity  distance  calculated adopting a standard ΛCDM model with the best estimates of the cosmological parameters $\\Omega_M$ and $\\Omega_{\\Lambda}$\n",
    "When expressed as a relation between X–ray and UV luminosities, the $\\alpha_{OX}-L_{UV}$ relation becomes:\n",
    "$$ L_X=\\beta +\\gamma logL_{UV} $$\n",
    "\n",
    "with the free parameters:\n",
    "$\\beta∼9$ and $\\gamma∼0.6$.  The observed dispersion is $\\delta∼0.35–0.40$.\n",
    "The  potential  use  of  this  relation  as  a  cosmological probe is obvious:  if we assume no redshift evolution of the relation, the observed X–ray flux is a function of the observed UV flux, the redshift, and the parameters of the\n",
    "adopted cosmological model.  The relation can be then fitted to a set of UV and X–ray observations of quasars in order to estimate the cosmological parameters.https://arxiv.org/pdf/1505.07118.pdf \n",
    "\n",
    "<img src='img/new5_hubble.png' alt='this' style='width=1200px;height=800px;'>\n",
    "\n",
    "\n",
    "Hubble Diagram for the quasar sample (small gray points) and supernovae (cyan points). The large red points are quasar averages in small redshift bins. The inner box shows a zoom of the z = 0 − 1.5 range, in order to better visualize the match between the SNe and the quasar samples. The continuous line is obtained from a joint fit of the two samples\n",
    "assuming a standard ΛCDM cosmological model. The relative normalization between SNe and quasars is a free parameter of the fit, and it is estimated with an uncertainty lower than 1%\n",
    "https://arxiv.org/pdf/1505.07118.pdf\n",
    "\n",
    "Quasars as standard candles are much less precise than supernovae.  However, the main advantages in using quasars are the wider redshift range, and the possibility of future large improvements of the sample.The main advantage of this method is clearly the possibility of testing the cosmological model, and measuring the cosmological parameters,  over a wider redshift range than any  other  cosmological  probe,  with  the  possible  exception of gamma-ray bursts https://arxiv.org/pdf/1505.07118.pdf\n",
    "\n",
    "\n",
    "\n"
   ]
  },
  {
   "cell_type": "markdown",
   "metadata": {},
   "source": [
    "### Cepheids\n",
    "\n",
    "The Hubble constant ($H_0$) measured locally and the sound horizon observed from the cosmic microwave background radiation (CMB) provide the two chief absolute scales at opposite ends of the visible expansion history of the Universe. Comparing the two gives a stringent end-to-end test of ΛCDM (the cosmological constant plus cold dark matter in a flat Universe), the new “Standard Model” of cosmology, over the full history of the Universe.\n",
    "By steadily improving the precision and accuracy of the $H_0$ measurement from Cepheids and Type Ia supernovae (SNe Ia),\n",
    "evidence has been growing of a significant discrepancy between the two.Intriguingly, this discrepancy does not appear to be attributable to an error in any one source of data, either in the local determination of $H_0$ or from the CMB.\n",
    "The discrepancy remains significant using any one of three independent, geometric approaches commonly used to calibrate the luminosities of Cepheids along the distance ladder: masers in NGC 4258, detached eclipsing binaries (DEBs) in the Large Magellanic Cloud (LMC),or trigonometric parallaxes of Milky Way (MW) Cepheids.https://arxiv.org/pdf/1801.01120.pdf\n",
    "\n"
   ]
  },
  {
   "cell_type": "markdown",
   "metadata": {},
   "source": [
    "## Cosmological constant problem\n",
    "\n",
    "From the Heisenberg uncertainty principle, we know that the ground state energy of the quantum mechanical oscillator cannot be zero because the potential and the kinetic energies cannot vanish at the same time. Since a (free) quantum field can be viewed as an infinite collection of harmonic oscillators, it immediately comes that its ground state energy must be infinite.the presence of this infinity did not prevent the founding fathers of quantum field theory to develop the theory since, in absence of gravity (a working assumption of quantum field theory justified by the weakness\n",
    "of gravity), only differences in energies are observable.Therefore, in this context, this infinity can be merely ignored and the rest of the formalism can be worked out without any problem.Other types of infinities appear and treating and taming them is the goal of renormalization.\n",
    " The expansion of our Universe is accelerated, this could be the first observational evidence that the quantum vacuum is able to curve space-time.\n",
    " The effect of a cosmological constant is visible only on large scales.\n",
    " We introduce the cosmological constant as a free parameter in the classical action of the gravitational field. This action, together with the action describing matter, can be expressed as: $$ S= {1 \\over {2\\kappa}} \\int  {d^4{x}} \\sqrt {-g} (R-2\\Lambda_B) + S_{matter} [{g_{\\mu\\nu}},\\Psi] $$\n",
    " where $\\kappa \\equiv {{8\\pi G} / {c^4}} \\equiv {8\\pi}/{m^2_{Pl}} \\equiv {1/{M^2_{Pl}}}$ , $m_{Pl}$ and $M_{Pl}$ being the Planck mass and the reduced Planck mass respectively.  \n",
    " \n",
    " (* ${M^2_{pl}}\\equiv {\\hbar c \\over G}$ a particle of mass $M_{pl}$ has a gravitational energy equal to its rest mass \n",
    " at a distance equal to its Compton wavelength. For any mass above the Planck mass, quantum mechanical effects cannot be\n",
    "neglected, and thus classical general relativity must break down.)\n",
    " \n",
    " \n",
    " The first term is the standard Einstein-Hilbert action and represents the gravitational part of the total action.\n",
    " The cosmological constant appears in the second term of the above expression.\n",
    " $\\Lambda_B$ for “bare cosmological constant”. It has the dimension of the inverse of a square length. It is compatible with general covariance and is of course compatible with a conserved energy momentum tensor since $\\nabla^{\\mu}g_{\\mu\\nu}=0$.\n",
    " The third term in the above equation denotes the matter action where $\\Psi$ represents a generic matter field.\n",
    " \n",
    " Variation of the total action with respect to the metric tensor leads to the Einstein equations of motion: $$R_{\\mu\\nu}-{1\\over 2}R{g_{\\mu\\nu}}+{\\Lambda_B} g_{\\mu\\nu}=\\kappa T_{\\mu\\nu}$$ \n",
    " \n",
    " where the stress-energy tensor is defined by: $$ T_{\\mu\\nu}={-{2 \\over \\sqrt {-g}}} {{\\delta S_{matter}} \\over {\\delta g^{\\mu\\nu}}} $$ \n",
    " \n",
    " $\\Lambda_B$ appears to be just a parameter of the model.\n",
    " \n",
    " The stress energy tensor of a field placed in the vacuum state must be given by: $$ <0|T_{\\mu\\nu}|0>=-{\\rho_{vac}}g_{\\mu\\nu}$$\n",
    " \n",
    " where $\\rho_{vac}$ is the constant energy density of the vacuum.This equation is valid for all the fields present in the Universe.\n",
    " \n",
    " That there are at least two sources for the vacuum energy. There is a “classical” contribution given by: $$<T_{\\mu\\nu}>=- V(\\Phi_{min})g_{\\mu\\nu}$$\n",
    " \n",
    " which originates from the value of the potential at its minimum.There is also a “quantum-mechanical” source given by: $$ <T_{\\mu\\nu}>=-{\\rho_{vac}}(t,\\mathbf{x})g_{\\mu\\nu}$$\n",
    " which originates from the zero point fluctuations of the ground state. \n",
    " \n",
    " Assuming that the equivalence principle applies to the zero-point fluctuations, that is to say that the zero-point fluctuations gravitate. Clearly, this is not a trivial step but, after all, the vacuum fluctuations are just a specific type of energy and, in general relativity, all forms of energy gravitate. Therefore, a consistent way of writing the Einstein equations when quantum field theory is taken into account seems to be: $$ R_{\\mu\\nu}-{1 \\over 2}Rg_{\\mu\\nu}+{\\Lambda_B}g_{\\mu\\nu}=\\kappa T^{matter}_{\\mu\\nu} + \\kappa<T_{\\mu\\nu}>$$\n",
    " \n",
    " where on the right hand side the first contribution comes from ordinary matter while the second one represents the\n",
    "contribution originating from the vacuum.Using the form of $<T_{\\mu\\nu}>$  one arrives at: $$ R_{\\mu\\nu}-{1 \\over 2}Rg_{\\mu\\nu}+{\\Lambda_{eff}}g_{\\mu\\nu}=\\kappa T^{matter}_{\\mu\\nu} $$ \n",
    "where : $$ \\Lambda_{eff}=\\Lambda_B + \\kappa\\rho_{vac}$$\n",
    "Therefore, we conclude that the effective cosmological constant is the sum of the bare cosmological constant and of a contribution originating from the vacuum fluctuations. The effective cosmological constant $\\Lambda_{eff}$ is the\n",
    "quantity that one can observe and constrain when tests of the Einstein equations are carried out.\n",
    "The problem is that $\\kappa\\rho_{vac}$ is made of several terms which are all huge in comparison with the observed value of $\\Lambda_{eff}$.\n",
    "\n",
    "https://arxiv.org/pdf/1205.3365.pdf\n",
    "\n",
    "### THE CLASSICAL COSMOLOGICAL CONSTANT PROBLEM\n",
    "\n",
    "A classical contribution to $\\Lambda_{eff}$ comes from the value of the potential at its minimum. If this is not zero, then it affects the value of the effective cosmological constant.*\n",
    "\n",
    "*The corresponding action of a scalar field $\\Phi$ : $$ S_{\\Phi}=-{\\int{d^4}x\\sqrt{-g}}[{1 \\over 2}g^{\\mu\\nu}\\partial_{\\mu}\\Phi\\partial_{\\nu}\\Phi+V(\\Phi)]$$\n",
    "where V($\\Phi$) the potential.The corresponding stress-energy tensor can be written explicitly as: $$T_{\\mu\\nu}=\\partial_{\\mu}\\Phi\\partial_{\\nu}\\Phi-g_{\\mu\\nu}[{1\\over 2}g^{\\alpha\\beta}\\partial_{\\alpha}\\Phi\\partial_{\\beta}\\Phi+ V(\\Phi)]$$\n",
    "From this expression, one sees that the scalar field is in fact a perfect fluid.  Now, the vacuum state is the minimum energy state. Clearly, in order to minimize the energy we have to consider a situation where the kinetic energy vanishes and where the field sits at the minimum of its potential.  In this case, the stress energy tensor reduces to: $$<T_{\\mu\\nu}>=-{\\rho_{vac}}g_{\\mu\\nu}$$\n",
    "which has exactly the expected form with $\\rho_{vac}=V(\\Phi_{min})$\n",
    "\n",
    "<img src='img/figure1.png' alt='that' style='width=1200px;height=800px;'>\n",
    "\n",
    "\n",
    "\n",
    "Figure:The effective potential given by $V_{eff}(\\Phi)=V_0+{\\lambda \\over 4}({{\\Phi}^2-{\\upsilon}^2})^2+{\\bar{g} \\over 2}T^2{\\Phi}^2$. Before the transition, for $T>T_{cri}$ the minimum of the potential is located at the origin and the vacuum energy is given by $V_0+{\\lambda}{\\upsilon}^4/4$ After the transition, for $T < T_ {cri}$ , the minimum is located at $\\Phi = \\upsilon$ and the corresponding vacuum energy has changed and now equals $V_0$ . It is clear that $V_ 0$ can always be chosen such that the vacuum energy vanishes either before or after the transition. It is equally clear that one cannot choose the parameters of the potential such that $\\rho_{vac}$ is zero before and after the phase transition.\n",
    "We see that the choice of a parameter in the potential allows us to change the vacuum energy at the classical level,\n",
    "hence the name “classical cosmological constant problem”. But, clearly, the off-set cannot be zero before and after the transition.\n",
    "\n",
    "<img src='img/figure2.png' alt='that' style='width=1200px;height=800px;'>\n",
    "\n",
    "Effective potential of the Higgs boson before and after the electroweak phase transition. The left panel corresponds to\n",
    "a situation where the vacuum energy vanishes at high temperature. As a consequence $\\rho_{vac}$ is negative at temperature smaller than the critical temperature. On the right panel, the off-set parameter $V_0$ is chosen such that the vacuum energy is zero after the transition. As a consequence,it does not vanish at high temperatures.\n",
    "\n",
    "https://arxiv.org/pdf/1205.3365.pdf\n",
    "\n",
    "\n",
    "\n",
    "## THE QUANTUM-MECHANICAL COSMOLOGICAL CONSTANT PROBLEM\n",
    "Even if we solve the classical cosmological constant problem and find a convincing reason to put the minimum of the potential to zero, $\\rho_{vac}$ is a quantity which also receives contributions from the zero-point fluctuations of all the quantum fields present in the Universe.\n",
    "\n",
    "In principle, the corresponding vacuum energy density can be estimated from first principles.\n",
    "\n",
    "$\\rightarrow$ How the Lorentz invariance affects the calculation of the vacuum energy\n",
    "\n",
    "For a simple real free scalar field:\n",
    " The energy density $\\rho=u^{\\mu}u^{\\nu}T_{\\mu\\nu}$ measured by a fundamental observer characterized by its four-velocity vector $u^{\\mu}=(1,\\mathbf{0})$  $$ <\\rho>=<0\\mid u^0u^0T_{00}\\mid 0>={1 \\over {(2\\pi)}^3}{1 \\over 2} \\int d^3 \\mathbf{k} \\omega(k)$$ \n",
    " where $k^{\\mu}=(k^0,\\mathbf{k})$ the four-dimensional momentum and $\\mid\\mathbf{k}\\mid=k$\n",
    " \n",
    " The pressure: $$ <p>={1 \\over {(2\\pi)}^3}{1 \\over 6} \\int d^3 \\mathbf{k} {k^2 \\over {\\omega(k)}}$$\n",
    " \n",
    " From $$\\Lambda_{eff}=\\Lambda_B + \\kappa\\rho_{vac}$$\n",
    " \n",
    " $\\mapsto$ $$ \\Lambda_{eff}=\\Lambda_B +{\\kappa \\over {(2\\pi)}^3} \\int {d^3\\mathbf{k} {1 \\over 2}{\\omega(k)}}$$\n",
    " \n",
    " The obvious problem with the previous calculation is that the integrals expressing the energy density $<\\rho>$ and\n",
    "the pressure $<p>$ blow up in the ultraviolet regime (and,therefore, strictly speaking, the effective cosmological constant is in fact infinite).Regularizing these infinities is crucial since the absolute value of the vacuum energy weighs and, therefore, can be measured.\n",
    "The common method found in the literature is to introduce a cut-off at k = M , where the physical interpretation of M is that this is the scale at which the effective theory breaks down.The quantity M is not known: it could be the Planck scale, the string scale or even the super-symmetric breaking scale.This is in fact not important because the cosmological constant problem is present regardless of the precise value of the cut-off.\n",
    "The Lorentz invariance is broken when we impose a cut-off on the spatial momentum only.\n",
    "Therefore, in order to meaningfully evaluate the zero-point energy density, one must use a regularization scheme that does not break Lorentz invariance (one choice: dimensional regularization)\n",
    "\n",
    "\n",
    "$\\rightarrow$ The Vacuum and the Feynman Diagrams\n",
    "\n",
    "The energy density: $$<\\rho>=-{m^2 \\over 4}D_F(0)$$\n",
    "\n",
    "The cosmological constant\n",
    "\n",
    "\n",
    "<img src='img/cc.png' alt='that' style='width=1200px;height=800px;'>\n",
    "the cosmological constant is given by a“bubble diagram”, i.e. a diagram that has no external leg.The vacuum energy den-\n",
    "sity, or equivalently the cosmological constant, can be expressed in term of a bubble diagram.\n",
    "\n",
    "The generating functional\n",
    "<img src='img/cc1.png' alt='that' style='width=1200px;height=800px;'>\n",
    "\n",
    "We see that the bubble diagram has canceled in the final expression. Since all the predictions (cross-sections,etc ...) follow from the calculation of the generating functional, we see that the bubble diagrams never contribute, in absence of gravity, to any observables. On the contrary, when the gravitational field is turned on, the bubble diagrams become important and can affect the predictions of the theory. In summary, the cosmological constant problem can be viewed as the appearance of a new type of divergent graphs.these graphs can be regularized but the regularized value seems to be incompatible with some astrophysical observations.\n",
    "\n",
    "$\\rightarrow$ The Vacuum in Presence of Interactions\n",
    "\n",
    "When interaction is present, one must also renormalize the mass.As is well-known, at one loop, the renormalization of the comes from the tadpole diagram. More precisely,one has to calculate the correction to the propagator.\n",
    "\n",
    "<img src='img/cc2.png' alt='that' style='width=1200px;height=800px;'>\n",
    "\n",
    "We see thatthis implies the following redefinition (or renormalization) of the mass: $$m^2_{ren}=m^2-{\\lambda \\over 2}D_F(0)$$\n",
    "\n",
    "As a consequence, the vacuum energy: $$<\\rho>=-{m^2_{ren} \\over 4}D_F(0)$$\n",
    "The extra contribution coming from the interacting term is exactly canceled by the renormalization of the mass.\n",
    "In other words, one sees that the presence of the interaction has not modified the expression of the vacuum\n",
    "energy density,at least at one loop, provided the final result is expressed in terms of the renormalized mass\n",
    "rather than the bare one.\n",
    "\n",
    "https://arxiv.org/pdf/1205.3365.pdf\n",
    "\n",
    "## THE BUBBLE DIAGRAMS\n"
   ]
  },
  {
   "cell_type": "code",
   "execution_count": null,
   "metadata": {},
   "outputs": [],
   "source": []
  }
 ],
 "metadata": {
  "kernelspec": {
   "display_name": "Python 2",
   "language": "python",
   "name": "python2"
  },
  "language_info": {
   "codemirror_mode": {
    "name": "ipython",
    "version": 2
   },
   "file_extension": ".py",
   "mimetype": "text/x-python",
   "name": "python",
   "nbconvert_exporter": "python",
   "pygments_lexer": "ipython2",
   "version": "2.7.15rc1"
  }
 },
 "nbformat": 4,
 "nbformat_minor": 2
}
