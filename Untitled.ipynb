{
 "cells": [
  {
   "cell_type": "code",
   "execution_count": 3,
   "metadata": {},
   "outputs": [],
   "source": [
    "%matplotlib inline\n",
    "import numpy as np\n",
    "import lmfit\n",
    "import matplotlib.pyplot as plt"
   ]
  },
  {
   "cell_type": "code",
   "execution_count": 4,
   "metadata": {},
   "outputs": [],
   "source": [
    "def mzz(OmM,OmL,z):\n",
    "    Omk = 1.-OmM-OmL\n",
    "    OI = OmM*(1+zz)**3+Omk*(1+zz)**2+OmL\n",
    "    OI[OI<0.001] = 0.001\n",
    "    dCz = np.cumsum(1./np.sqrt(OI))*dz\n",
    "    if (Omk < 0.):\n",
    "        dMz = np.sin(np.sqrt(-Omk)*dCz)/np.sqrt(-Omk)\n",
    "        dMz[dMz < 0.0001] = 0.0001\n",
    "    elif (Omk > 0.):\n",
    "        dMz = np.sinh(np.sqrt(Omk)*dCz)/np.sqrt(Omk)\n",
    "    else:\n",
    "        dMz = dCz\n",
    "    mc = m0 + 5.0*np.log10(dH*dMz*(1+zz))\n",
    "    ms = np.interp(z,zz,mc)\n",
    "    return ms"
   ]
  },
  {
   "cell_type": "code",
   "execution_count": 6,
   "metadata": {},
   "outputs": [],
   "source": [
    "data = np.genfromtxt('SCPUnion2.1_mu_vs_z.txt')\n",
    "zs = data.T[1]\n",
    "mm = data.T[2]\n",
    "dm = data.T[3]\n",
    "dlabel = 'SCP_2.1'\n",
    "ndof = mm.size"
   ]
  },
  {
   "cell_type": "code",
   "execution_count": 7,
   "metadata": {},
   "outputs": [],
   "source": [
    "dz = 0.001\n",
    "zz = np.arange(dz,2.0,dz)"
   ]
  },
  {
   "cell_type": "code",
   "execution_count": 8,
   "metadata": {},
   "outputs": [],
   "source": [
    "c = 299792. \n",
    "i1 = zs<0.05\n",
    "H0 = (c*1.e6/10.**(mm[i1]/5.+1)*zs[i1]).mean()"
   ]
  },
  {
   "cell_type": "code",
   "execution_count": 9,
   "metadata": {},
   "outputs": [],
   "source": [
    "dH = c/H0\n",
    "ms = 5.0*np.log10(dH*zs)"
   ]
  },
  {
   "cell_type": "code",
   "execution_count": 10,
   "metadata": {},
   "outputs": [
    {
     "name": "stdout",
     "output_type": "stream",
     "text": [
      "SCP_2.1 , zs.size =  580 , zsl.size =  140\n",
      "SCP_2.1 , H0 =  68.34712576515597 , m0 =  25.003163225693005\n"
     ]
    }
   ],
   "source": [
    "m0 = np.sum((mm[i1]-ms[i1])/dm[i1]**2)/np.sum(1./dm[i1]**2)\n",
    "print dlabel,', zs.size = ',zs.size, ', zsl.size = ',zs[i1].size\n",
    "print dlabel,', H0 = ', H0,', m0 = ', m0"
   ]
  },
  {
   "cell_type": "code",
   "execution_count": 11,
   "metadata": {},
   "outputs": [],
   "source": [
    "NOmM = 60\n",
    "NOmL = 90\n",
    "OmMs = np.linspace(0.0,1.0,NOmM)\n",
    "OmLs = np.linspace(0.,1.5,NOmL)\n",
    "X, Y = np.meshgrid(OmMs,OmLs)"
   ]
  },
  {
   "cell_type": "code",
   "execution_count": 12,
   "metadata": {},
   "outputs": [],
   "source": [
    "Zmax = 1000.\n",
    "Z = np.ones((NOmL,NOmM))*Zmax"
   ]
  },
  {
   "cell_type": "code",
   "execution_count": null,
   "metadata": {},
   "outputs": [],
   "source": []
  }
 ],
 "metadata": {
  "kernelspec": {
   "display_name": "Python 2",
   "language": "python",
   "name": "python2"
  },
  "language_info": {
   "codemirror_mode": {
    "name": "ipython",
    "version": 2
   },
   "file_extension": ".py",
   "mimetype": "text/x-python",
   "name": "python",
   "nbconvert_exporter": "python",
   "pygments_lexer": "ipython2",
   "version": "2.7.15rc1"
  }
 },
 "nbformat": 4,
 "nbformat_minor": 2
}
