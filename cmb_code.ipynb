{
 "cells": [
  {
   "cell_type": "code",
   "execution_count": 1,
   "metadata": {},
   "outputs": [],
   "source": [
    "%matplotlib inline\n",
    "import numpy as np\n",
    "import matplotlib.pyplot as plt\n",
    "import astropy.units as u\n",
    "import lmfit"
   ]
  },
  {
   "cell_type": "code",
   "execution_count": 2,
   "metadata": {},
   "outputs": [],
   "source": [
    "#In order to derive hubble parameter from CMB I will use the following equation (Efstathiou,Bond 1998):\n",
    "def H0(om_c,om_b,Om_k,Om_L):\n",
    "    h=np.sqrt((om_c + om_b)/ (1- Om_k - Om_L))\n",
    "    H01=h*100*u.km / u.s / u.Mpc\n",
    "    return H01"
   ]
  },
  {
   "cell_type": "code",
   "execution_count": 3,
   "metadata": {},
   "outputs": [],
   "source": [
    "#the physical density in cold dark matter from Planck 2018:\n",
    "om_c=0.12011\n",
    "#the physical density in baryons from Planck 2018:\n",
    "om_b=0.022383\n",
    "#The geometry of the universe is specified by the parameters Om_k,Om_L\n",
    "Om_k=0\n",
    "Om_L=0.679\n",
    "#Om_m=0.3158"
   ]
  },
  {
   "cell_type": "code",
   "execution_count": 4,
   "metadata": {},
   "outputs": [],
   "source": [
    "H_0=H0(om_c,om_b,Om_k,Om_L)"
   ]
  },
  {
   "cell_type": "code",
   "execution_count": 5,
   "metadata": {},
   "outputs": [
    {
     "name": "stdout",
     "output_type": "stream",
     "text": [
      "66.6260779869 km / (Mpc s)\n"
     ]
    }
   ],
   "source": [
    "print H_0"
   ]
  },
  {
   "cell_type": "code",
   "execution_count": null,
   "metadata": {},
   "outputs": [],
   "source": []
  },
  {
   "cell_type": "code",
   "execution_count": null,
   "metadata": {},
   "outputs": [],
   "source": []
  }
 ],
 "metadata": {
  "kernelspec": {
   "display_name": "Python 2",
   "language": "python",
   "name": "python2"
  },
  "language_info": {
   "codemirror_mode": {
    "name": "ipython",
    "version": 2
   },
   "file_extension": ".py",
   "mimetype": "text/x-python",
   "name": "python",
   "nbconvert_exporter": "python",
   "pygments_lexer": "ipython2",
   "version": "2.7.15+"
  }
 },
 "nbformat": 4,
 "nbformat_minor": 2
}
