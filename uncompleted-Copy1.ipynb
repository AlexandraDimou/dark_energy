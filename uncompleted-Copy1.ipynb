{
 "cells": [
  {
   "cell_type": "code",
   "execution_count": 1,
   "metadata": {},
   "outputs": [],
   "source": [
    "%matplotlib inline\n",
    "import numpy as np\n",
    "import lmfit\n",
    "import matplotlib.pyplot as plt\n"
   ]
  },
  {
   "cell_type": "code",
   "execution_count": 2,
   "metadata": {},
   "outputs": [],
   "source": [
    "# read in the table\n",
    "data = np.genfromtxt('SCPUnion2.1_mu_vs_z.txt')\n",
    "# pull out the redshifts (zs), magnitudes (mm) and magnitude estimated errors (dm)\n",
    "zs = data.T[1]\n",
    "mm = data.T[2]\n",
    "dm = data.T[3]"
   ]
  },
  {
   "cell_type": "code",
   "execution_count": 41,
   "metadata": {},
   "outputs": [],
   "source": [
    "def mzz(OmM,OmL,z):\n",
    "    Omk = 1.-OmM-OmL\n",
    "    OI = OmM*(1+zz)**3+Omk*(1+zz)**2+OmL\n",
    "    #print \"IOmM,IOmL,OmM,OmL,Omk = \",IOmM,IOmL,OmM,OmL,Omk\n",
    "    # protect against sqrt(-1). Else, no Big Bang\n",
    "    OI[OI<0.001] = 0.001\n",
    "    # comoving distance\n",
    "    dCz = np.cumsum(1./np.sqrt(OI))*dz\n",
    "    # curvature cases, for transverse comoving distance:\n",
    "    if (Omk < 0.):\n",
    "        dMz = np.sin(np.sqrt(-Omk)*dCz)/np.sqrt(-Omk)\n",
    "        dMz[dMz < 0.0001] = 0.0001  # what if this goes negative?\n",
    "    elif (Omk > 0.):\n",
    "        dMz = np.sinh(np.sqrt(Omk)*dCz)/np.sqrt(Omk)\n",
    "    else:\n",
    "        dMz = dCz\n",
    "    # convert luminosity distance into a magnitude: theory prediction, smooth curve\n",
    "    mc = m0 + 5.0*np.log10(dH*dMz*(1+zz))\n",
    "    ms = np.interp(z,zz,mc)\n",
    "    return ms\n"
   ]
  },
  {
   "cell_type": "code",
   "execution_count": 42,
   "metadata": {},
   "outputs": [],
   "source": [
    "# vector of redshifts for smooth curves\n",
    "dz = 0.001\n",
    "zz = np.arange(dz,2.0,dz)\n",
    "\n",
    "# estimate H0 and m0 from low-z SN:\n",
    "c = 299792.   # km/s\n",
    "i1 = zs<0.05\n",
    "H0 = (c*1.e6/10.**(mm[i1]/5.+1)*zs[i1]).mean()\n",
    "# horizon distance\n",
    "dH = c/H0\n",
    "ms = 5.0*np.log10(dH*zs)\n",
    "# only use the nearby data with linear Hubble to determine m0:\n",
    "m0 = np.sum((mm[i1]-ms[i1])/dm[i1]**2)/np.sum(1./dm[i1]**2)"
   ]
  },
  {
   "cell_type": "code",
   "execution_count": 44,
   "metadata": {},
   "outputs": [],
   "source": [
    "chisq = np.sum(((mm-ms)/dm)**2)"
   ]
  },
  {
   "cell_type": "code",
   "execution_count": null,
   "metadata": {},
   "outputs": [],
   "source": [
    "\n",
    "p = lmfit.Parameters()\n",
    "p.add_many\n",
    "\n",
    " def residual(p):\n",
    "    v = p.valuesdict()\n",
    "    return "
   ]
  },
  {
   "cell_type": "code",
   "execution_count": null,
   "metadata": {},
   "outputs": [],
   "source": [
    " mi = lmfit.minimize(chisq, ms, method='emcee', nan_policy='omit')"
   ]
  }
 ],
 "metadata": {
  "kernelspec": {
   "display_name": "Python 2",
   "language": "python",
   "name": "python2"
  },
  "language_info": {
   "codemirror_mode": {
    "name": "ipython",
    "version": 2
   },
   "file_extension": ".py",
   "mimetype": "text/x-python",
   "name": "python",
   "nbconvert_exporter": "python",
   "pygments_lexer": "ipython2",
   "version": "2.7.15rc1"
  }
 },
 "nbformat": 4,
 "nbformat_minor": 2
}
