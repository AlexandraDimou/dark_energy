{
 "cells": [
  {
   "cell_type": "code",
   "execution_count": 1,
   "metadata": {},
   "outputs": [],
   "source": [
    "%matplotlib inline\n",
    "import numpy as np\n",
    "import matplotlib.pyplot as plt\n",
    "import scipy\n",
    "import pandas as pd\n",
    "import lmfit\n",
    "import corner"
   ]
  },
  {
   "cell_type": "code",
   "execution_count": 2,
   "metadata": {},
   "outputs": [],
   "source": [
    "def Hz1(z1,H01,Om1,Ode1,w0,w1):\n",
    "    #Ode1=1.-Om1\n",
    "   #the redshift dependence of the dark energy density:\n",
    "    I=((1+z1)**(3*(1+w0)))*np.exp((3*w1*z1**2)/(2*(1+z1)**2))\n",
    "    E = np.sqrt((Om1*(1+z1)**3.) + Ode1*I)\n",
    "    HZ1 = H01*E\n",
    "    return HZ1"
   ]
  },
  {
   "cell_type": "code",
   "execution_count": 3,
   "metadata": {},
   "outputs": [],
   "source": [
    "#Define  random redshifts\n",
    "num_zs = 1000\n",
    "zs= np.linspace(0.01, 6., num=num_zs)"
   ]
  },
  {
   "cell_type": "code",
   "execution_count": 4,
   "metadata": {},
   "outputs": [],
   "source": [
    "O_m=0.3029\n",
    "w_0=-0.9414\n",
    "w_1=0.95\n",
    "H_0=68.5265\n",
    "O_de=1-O_m"
   ]
  },
  {
   "cell_type": "code",
   "execution_count": 5,
   "metadata": {},
   "outputs": [],
   "source": [
    "#Hubble comoving parameter\n",
    "Hz=Hz1(zs,H_0,O_m,O_de,w_0,w_1)/(1+zs)"
   ]
  },
  {
   "cell_type": "code",
   "execution_count": 6,
   "metadata": {},
   "outputs": [],
   "source": [
    "#random error for Hz\n",
    "error_sigma = 0.5\n",
    "e1 = np.random.normal(0., error_sigma, Hz.shape)"
   ]
  },
  {
   "cell_type": "code",
   "execution_count": 7,
   "metadata": {},
   "outputs": [],
   "source": [
    "H_zz= Hz + e1"
   ]
  },
  {
   "cell_type": "code",
   "execution_count": 8,
   "metadata": {},
   "outputs": [
    {
     "data": {
      "text/plain": [
       "[<matplotlib.lines.Line2D at 0x7f9e17e7cb90>]"
      ]
     },
     "execution_count": 8,
     "metadata": {},
     "output_type": "execute_result"
    },
    {
     "data": {
      "image/png": "[encoded data removed]",
      "text/plain": [
       "<Figure size 432x288 with 1 Axes>"
      ]
     },
     "metadata": {
      "needs_background": "light"
     },
     "output_type": "display_data"
    }
   ],
   "source": [
    "plt.plot(zs,H_zz, '.')"
   ]
  },
  {
   "cell_type": "code",
   "execution_count": 9,
   "metadata": {},
   "outputs": [],
   "source": [
    "p = lmfit.Parameters()\n",
    "p.add_many(('Om1',0.3,True,0.,2.),\n",
    "           ('Ode1',0.7,True,0.,2.),\n",
    "           ('H01',70.,True,50.,100.),\n",
    "           ('w0',-1.,True,-3.,3.),\n",
    "           ('w1',0.,True,0.,1.))\n",
    "\n",
    "def residual(p):\n",
    "    v = p.valuesdict()\n",
    "    return (Hz1(zs,v['H01'],v['Om1'],v['Ode1'],v['w0'],v['w1'])/(1+zs)-H_zz)/error_sigma"
   ]
  },
  {
   "cell_type": "code",
   "execution_count": 10,
   "metadata": {},
   "outputs": [],
   "source": [
    "mi = lmfit.minimize(residual, p, method='leastsq', nan_policy='omit')"
   ]
  },
  {
   "cell_type": "code",
   "execution_count": 11,
   "metadata": {},
   "outputs": [
    {
     "name": "stdout",
     "output_type": "stream",
     "text": [
      "[[Fit Statistics]]\n",
      "    # fitting method   = leastsq\n",
      "    # function evals   = 201\n",
      "    # data points      = 1000\n",
      "    # variables        = 5\n",
      "    chi-square         = 981.912050\n",
      "    reduced chi-square = 0.98684628\n",
      "    Akaike info crit   = -8.25353646\n",
      "    Bayesian info crit = 16.2852399\n",
      "[[Variables]]\n",
      "    Om1:   0.34584179 +/- 2159.59544 (624446.06%) (init = 0.3)\n",
      "    Ode1:  0.79884806 +/- 4988.37468 (624445.99%) (init = 0.7)\n",
      "    H01:   64.1240814 +/- 200210.191 (312223.09%) (init = 70)\n",
      "    w0:   -0.95210212 +/- 0.01903892 (2.00%) (init = -1)\n",
      "    w1:    0.99999546 +/- 0.08719124 (8.72%) (init = 0)\n",
      "[[Correlations]] (unreported correlations are < 0.100)\n",
      "    C(Om1, H01)  = -1.000\n",
      "    C(Ode1, H01) = -1.000\n",
      "    C(Om1, Ode1) =  1.000\n",
      "    C(w0, w1)    = -0.988\n"
     ]
    },
    {
     "data": {
      "image/png": "[encoded data removed]",
      "text/plain": [
       "<Figure size 432x288 with 1 Axes>"
      ]
     },
     "metadata": {
      "needs_background": "light"
     },
     "output_type": "display_data"
    }
   ],
   "source": [
    "plt.errorbar(zs,H_zz,yerr=error_sigma,fmt='o',alpha=0.2)\n",
    "bestOde1= mi.params.valuesdict()['Ode1']\n",
    "bestOm1 = mi.params.valuesdict()['Om1']\n",
    "bestH01 = mi.params.valuesdict()['H01']\n",
    "bestw0 = mi.params.valuesdict()['w0']\n",
    "bestw1 = mi.params.valuesdict()['w1']\n",
    "plt.plot(zs,Hz1(zs,bestOde1,bestH01,bestOm1,bestw0,bestw1)/(1+zs))\n",
    "plt.plot(zs,Hz)\n",
    "plt.xlabel('Redshift (z)')\n",
    "plt.ylabel('Comoving Hubble parameter')\n",
    "lmfit.report_fit(mi)"
   ]
  },
  {
   "cell_type": "code",
   "execution_count": null,
   "metadata": {},
   "outputs": [],
   "source": [
    "res = lmfit.minimize(residual, method='emcee', nan_policy='omit', burn=300, steps=1500, thin=1,\n",
    "                         params=p, is_weighted=True)"
   ]
  },
  {
   "cell_type": "code",
   "execution_count": null,
   "metadata": {},
   "outputs": [],
   "source": []
  }
 ],
 "metadata": {
  "kernelspec": {
   "display_name": "Python 2",
   "language": "python",
   "name": "python2"
  },
  "language_info": {
   "codemirror_mode": {
    "name": "ipython",
    "version": 2
   },
   "file_extension": ".py",
   "mimetype": "text/x-python",
   "name": "python",
   "nbconvert_exporter": "python",
   "pygments_lexer": "ipython2",
   "version": "2.7.15+"
  }
 },
 "nbformat": 4,
 "nbformat_minor": 2
}
