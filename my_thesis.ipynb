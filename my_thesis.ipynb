{
 "cells": [
  {
   "cell_type": "markdown",
   "metadata": {},
   "source": [
    "## Introduction"
   ]
  },
  {
   "cell_type": "markdown",
   "metadata": {},
   "source": [
    "### Brief review of General Relativity\n",
    "According to Einstein’s theory of general relativity, the universe is a four dimensional manifold upon which a metric $g_{\\mu\\nu}(x)$ is defined.This metric is used to measure distances on the manifold,$ds^2 =g_{\\mu\\nu}(x)x^{\\mu}x^{\\nu}$ and , in the general case, is curved. The curvature is characterized by Rie-mann’s tensor, (....)"
   ]
  },
  {
   "cell_type": "markdown",
   "metadata": {},
   "source": [
    "### The universe is expanding\n",
    "\n",
    "In 1929 Edwin Hubble,in his short paper,presented the observational evidence for one of science’s greatest discoveries—the expanding universe.Hubble observed a sample of 24 nearby galaxies and studied two quantities for each.The first was the galaxy’s redshift and the second was its distance from us.Light from an object that is emitted at one wavelength and observed at a higher (lower) wavelength is said to be redshifted (blueshifted). This is quantify by astronomers using a dimensionless parameter z, called the redshift and given by $$ z= {{{\\lambda}_{obs}-{\\lambda}_{emit}} \\over {\\lambda}_{emit}}$$\n",
    "where ${\\lambda}_{emit}$ is the wavelength of the light when the light is emitted form the source and ${\\lambda}_{obs}$ is the wavelength measured by an observer at some later time.When z >0, the observed light is redshifted relative to the emitted light;when z <0, the observed light is blueshifted. The light from a galaxy contains a mixture of different wavelengths at different intensities, called the spectrum of the object, and redshifting (or blueshifting) causes the entire spectrum to be displaced by a common factor. Because certain features in a galaxy’s spectrum, such as emission or absorption lines, have known wavelengths and identifiable patterns, the redshift z can be determined very accurately from observations.\n",
    "\n",
    "The second quantity Hubble studied for each galaxy,its distance from us,he measured himself relied on a  method that uses the stars (or galaxies) as “standard candles”; it compares their known intrinsic luminosity (known from similar well-calibrated nearby objects) with their observed apparent brightness to yield the distance to each object. The farther away the object, the dimmer it appears. If we know the absolute magnitude of an object (how bright it really is) and its apparent magnitude (how bright it appears to us ),we can determine its distance from us because the intensity of a light source decays as the inverse square of distance.\n",
    "Hubble combined the two measurements—redshift and distance—to produce a plot which shows a strong linear relationship:\n",
    "$$ z={{H_0} \\over c}d$$\n",
    "where c is the speed of light and $H_0$ is a fundamental parameter called the Hubble constant.Hubble thus found that galaxies in all directions have redshifts that tend to increase in proportion to their distances, and by interpreting redshifts as Doppler shifts, that galaxies are moving away from us at a velocity v proportional to distance:\n",
    "$$v={H_0}d$$\n",
    "This relationship is now known as Hubble’s law.Hubble conclude that every galaxy was moving away from every other and, thus, that the universe itself is expanding.He showed that if you plot the distance to a galaxy (measured from Cepheid variables) and the velocity of the galaxy (measured by the shift in the spectral lines), the two quantities are directly correlated! A reproduction of his plot can be seen in figure 1:\n",
    "\n",
    "<img src='img/F2.large.jpg' alt='this' style='width=800px;height=400px;'>\n",
    "\n",
    "Figure 1:Hubble’s original diagram of distance to nearby galaxies, derived from measurements using Cepheid variables, against velocity, derived from redshift. The Hubble constant is the slope of this relation, and in this diagram is a factor of nearly 10 steeper than currently accepted values.\n",
    "\n",
    "If the universe is expanding, then extrapolating backward in time, the universe was smaller in the past, and thus more dense (with the same total mass-energy packed into a smaller volume), and thus hotter.\n",
    "Going back far enough, this would predict a point of infinite density and temperature—a singularity known as the “Big Bang.”(not my notes)\n",
    "\n",
    "Extrapolating forward in time,three possible fates for the universe can be predicted,depending on whether the gravitational pull of all the universe’s mass-energy is sufficient to overcome the energy of the Big Bang that is driving the universe’s expansion. In an open universe, the total mass-energy is insufficient, and the universe will expand forever. In a closed universe, the total mass-energy is sufficient to stop the expansion, and the universe will collapse in on itself in a “Big Crunch.” On the boundary between these two cases is a flat universe, where gravity and the expansion exactly balance.\n",
    "\n",
    "(need to write something about caveats that apply to Hubble's Law)\n",
    "Hubble's Law only works for distant galaxies. For nearby galaxies (in the Local Group), stars inside the Milky Way, and for objects in our Solar System, the relationship between distance and velocity does not hold. The reason for the discrepancy for nearby galaxies is the \"peculiar velocity\" of the galaxy, that is, its real velocity through space that is unrelated to the expansion. For distant galaxies, their peculiar velocities are small enough that they still lie on or near the line for Hubble's Law. For nearby galaxies, though, their peculiar velocity is larger than their velocity from the expansion, so their peculiar velocity dominates their total velocity, causing them to lie far from the line relating velocity to distance.(not my notes)"
   ]
  },
  {
   "cell_type": "markdown",
   "metadata": {},
   "source": [
    "### Friedmann Cosmology\n",
    "\n",
    "Hubble was not the first who predicted the expansion of the universe.Theoretical cosmologists had anticipated an expanding universe several years before he analyzed his data. Alexander Friedmann and George Lemaˆıtre independently used Einstein’s General Relativity to derive theoretical models that describe the dynamics and geometry of an expanding universe. These evolved into the standard model of relativistic cosmology,called the Friedmann–Robert–Walker model.\n",
    "Friedmann introduced a dimensionless function called the scale factor $\\alpha(t)$ that gives the ratio of the size of any region at time t to the size of that region at the current time $t_0$ (from which it follows that $\\alpha(t_0)=1$)\n",
    "(Cosmologists often use 0 subscripts for quantities at the current age of the universe.)\n",
    " The function $\\alpha(t)$ describes the universe’s entire expansion history. Friedmann derived the following equation that describes how the scale factor evolves: $${({\\dot{\\alpha(t)} \\over {\\alpha(t)}})}^2={{8\\pi G} \\over 3}{\\rho(t)}={{kc^2} \\over{\\alpha^2(t)}}$$ \n",
    "\n",
    "where $\\dot\\alpha(t)$ the time derivative of $\\alpha(t)$, G is Newton’s gravitational constant, $\\rho(t)$ is the total energy density at time t, and k is a parameter describing the curvature of spacetime, which takes values −1, 0, or 1 depending on whether the universe is open, flat, or closed. \n",
    "\n",
    "The Friedmann equation connects the universe’s geometry (e.g., size,curvature) to its content (e.g., energy density). An observer at time t who replicated Hubble’s study would find a linear relationship between recession velocity and distance to nearby galaxies with slope $$H(t) = { {\\dot{\\alpha} (t)} \\over {\\alpha} (t)} $$ \n",
    "This Hubble parameter H(t) describes the (local) relative expansion rate and is constant for all observers at a particular time; at thecurrent time,we get the Hubble constant $H_0=H(t_0)$. In a flat universe—when k= 0 in Friedmann's equation —the total energy density is determined by H and is called the critical density ${\\rho}_{crit}$:\n",
    "$${\\rho}_{crit}={{3H^2} \\over {8\\pi G}}$$\n",
    "If $\\rho > {\\rho}_{crit}$ the universe is closed; If $\\rho < {\\rho}_{crit}$ the universe is open;if $\\rho={\\rho}_{crit}$ \n",
    "the universe is flat. Cosmologists refer to these cases in terms of the scaled density parameter: $$ \\Omega \\equiv{\\rho \\over{\\rho}_{crit}}$$ \n",
    "giving $\\Omega >1$, $\\Omega <1$ and $\\Omega=1$ for closed, open, and flat respectively.\n",
    "Relating these theoretical expressions to Hubble’s observation, the redshift z can also be expressed in terms of $\\alpha$. As the universe expands, light waves traveling through it are stretched out by the expansion increasing the wavelength by the factor by which the universe has expanded between the emission and observation times. That is, light emitted at time $t_{emit}$ with wavelength $\\lambda_{emit}$ and observed at time $t_{obs}$ has wavelength $\\lambda_{obs}=\\lambda_{emit}(1+z)$ where the redshift z is given by: $$ z={{\\alpha(t_{obs})} \\over {\\alpha(t_{emit})}} -1 $$\n",
    "\n",
    "Redshift is a measure of distance as well. Hubble’s relation defines a frame of reference in which an observer at rest in that frame sees galaxy recession velocities proportional to distance in all directions. Such an observer is said to be comoving with respect to the Hubble expansion. In contrast,an observer moving relative to this reference frame would see systematically higher recession velocities behind than in front. The distance measured with a tape-measure between two comoving observers at time t has the form: $d(t)=\\alpha(t)cr$ where r is called the comoving distance between the two observers, which we express in units of time. But recession velocities are not observable, redshifts are. The comoving distance between an observer and an object at redshift z is derived by computing tape-measure distances between nearby events along the line of sight to the object and adjusting each such distance for the corresponding expansion of the universe.This gives: $$r(z)=\\int_{0}^{z}{dz' \\over H(z')}$$\n",
    "By carefully measuring objects’ redshifts and distances, it is possible to estimate the distance-redshift relation and,\n",
    "in turn, the universe’s expansion history, its eventual fate, and a variety of fundamental cosmological parameters.\n",
    "\n",
    "\n",
    "The mathematical framework of cosmology is mainly based on the the way of defining the distance between two points in the Universe at cosmological scale. Let us consider a coordinate system where the coordinate separation between two points is $\\vec{x}$ then the real distance between these two points are $$ \\vec{r}=\\alpha(t)\\vec{x}$$\n",
    "where the $\\alpha(t)$ , called the scale factor, takes care of the time evolution of the real distance.\n",
    "As the Universe expands, the real distance increases, even between two comoving objects for whom the coordinate distance \n",
    "$(\\vec{x})$ remains the same. The idea of homogeneity ensures that the scale factor a is only a function of time.\n",
    "The most general way of defining the line element, which satisfies the cosmological principle, is the Friedmann-Robertson-Walker (FRW) metric,which is written as: $$ ds^2=-dt^2+{\\alpha}^2(t)[{dr^2 \\over {1-kr^2}}+r^2(d{\\theta}^2+sin^2{\\theta}d{\\phi}^2)]$$\n",
    "where t is cosmic time and (r, θ , φ ) are the spatial coordinates and k is the curvature parameter which determines the nature of the spatial geometry.\n",
    "Along with the cosmological principle, two other basic assumption in the modelling of the Universe are, (i) general relativity is the correct theory of gravity, and (ii) the matter distribution of the Universe can be represented as ideal fluid. Einstein’s field equations which are the key equations of general relativity, are written as, $$ G_{\\mu\\nu}\\equiv R_{\\mu\\nu}-{1 \\over 2 }g_{\\mu\\nu}R=8\\pi GT_{\\mu\\nu}$$\n",
    "where $G_{\\mu\\nu}$ is the Einstein tensor,$R_{\\mu\\nu}$ is the Ricci tensor, R is the Ricci scalar and $T_{\\mu\\nu}$ is the energy momentum tensor. Introducing the FRW metric to the Einstein’s field equations one arrives at the two basic equations of cosmology, $$3{{\\dot{\\alpha}}^2 \\over {\\alpha}^2}+3 {k \\over {\\alpha}^2}=8\\pi G\\rho$$\n",
    "and $$2{{\\ddot{\\alpha}} \\over \\alpha}+ {{{\\dot{\\alpha}}^2 +k} \\over {\\alpha}^2}=-8\\pi Gp$$\n",
    "These are known as the Friedmann equations. Here, ρ and p are respectively the energy density and pressure of perfect fluid for which the energy momentum tensor is $T^{\\mu}_{\\nu}=Diag(-\\rho,p,p,p)$. \n",
    "The Hubble parameter, which is the fractional rate of expansion of the linear size of the Universe, is defined as, $$ H(t) = { {\\dot{\\alpha} (t)} \\over {\\alpha} (t)} $$ \n",
    "The Friedmann equations can be written in terms of Hubble parameter and its derivatives as,$$3H^2 +3 {k \\over {\\alpha}^2}=8\\pi G\\rho$$ $(\\ast)$\n",
    "$$2\\dot{H}+3H^2+{k \\over {\\alpha}^2}=-8\\pi Gp$$\n",
    "From contracted Bianchi identity $(G^{\\mu\\nu}_{;\\mu})$ the continuity equation yields, $$\\dot{\\rho}+3H(\\rho+p)=0$$\n",
    "The energy density ( ρ ) and pressure (p) are related through an equation called the equation of state, p = w ρ , where the w is called the equation of state parameter. For pressureless dust matter the equation of state parameter w = 0 and for a distribution of photons, the value of equation of state parameter is w = 1/3. For a certain component, if the equation of state parameter w is known, the dependence of the energy density ( ρ ) upon the scale factor (a(t))\n",
    "can be determined. For instance, dust matter density ${\\rho}_{matter} \\propto  {1 \\over {\\alpha}^3 (t)} $ ,radiation or photon energy density ${\\rho}_{photon} \\propto  {1 \\over {\\alpha}^4 (t)} $ \n",
    "Now let us define a quantity called the critical density as, $${\\rho}_c (t)={3H^2 (t) \\over 8\\pi G}$$\n",
    "from $(\\ast)$ $$\\Omega(t)=1 +{k \\over 3{\\alpha}^2 H^2}$$ \n",
    "where $\\Omega (t)={ \\rho (t) \\over {\\rho}_c (t)}$ If the energy density of the Universe is exactly equal to the critical\n",
    "density, then the curvature parameter k = 0, that means that spatial geometry is flat. If $\\rho (t)>{\\rho}_c (t)$\n",
    "then the value of k is positive and it can be scaled as +1. Similarly for $\\rho (t)<{\\rho}_c (t)$ the value of k is negative and it can be scaled as −1. For k = +1, the spatial geometry of the Universe is closed and for k = −1, the spatial geometry if open.\n",
    "Observations suggest that the geometry of the spatial part of the Universe is very close to be flat.It is theoretically argued that the flatness of spatial geometry of the Universe is a consequence of an early inflation. The idea is that the rapid expansion during the inflation washed out the spatial curvature.\n",
    "\n",
    "(not all my notes in this section)"
   ]
  },
  {
   "cell_type": "code",
   "execution_count": null,
   "metadata": {},
   "outputs": [],
   "source": []
  }
 ],
 "metadata": {
  "kernelspec": {
   "display_name": "Python 2",
   "language": "python",
   "name": "python2"
  },
  "language_info": {
   "codemirror_mode": {
    "name": "ipython",
    "version": 2
   },
   "file_extension": ".py",
   "mimetype": "text/x-python",
   "name": "python",
   "nbconvert_exporter": "python",
   "pygments_lexer": "ipython2",
   "version": "2.7.15+"
  }
 },
 "nbformat": 4,
 "nbformat_minor": 2
}
